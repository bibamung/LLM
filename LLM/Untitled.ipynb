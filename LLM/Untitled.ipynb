{
 "cells": [
  {
   "cell_type": "markdown",
   "metadata": {},
   "source": [
    "# LLM (Large Language Models)"
   ]
  },
  {
   "cell_type": "markdown",
   "metadata": {},
   "source": [
    "## LLM 이란?\n",
    "- LLM(대형 언어 모델): 방대한 양의 자연어 데이터를 처리하고 사람이 생성한 텍스트와 구별할 수 없는 응답을 생성할 수 있는 인공 지능 시스템\n",
    "- LLM은 딥 러닝 기술(RNN, LSTM, GRU, Trnansformer)을 사용하여 구축되며 책, 기사 및 온라인 콘텐츠와 같은 방대한 양의 텍스트 데이터에 대해 학습한다.\n",
    "- 현재 LLM에는 OpenAI의 GPT와 구글 사의 BERT 모델을 서비스 하고 있다."
   ]
  },
  {
   "cell_type": "markdown",
   "metadata": {},
   "source": [
    "## LLM의 장단점\n",
    "- LLM의 장점:\n",
    "    - 효율성 향상: 방대한 양의 자연어 데이터를 빠르고 정확하게 처리할 수 있다.\n",
    "    - 다용성: 다양한 자연어 처리 작업에 적용할 수 있다.\n",
    "    - 지속적인 향상: 지속적으로 대규모 데이터로 업데이트되며, 모델의 성능과 정확도가 향상될 수 있다.\n",
    "   \n",
    "   \n",
    "- LLM의 단점:\n",
    "    - 데이터 의존성: 대량의 데이터를 필요로 함, 훈련 데이터의 부족이나 품질 문제는 모델의 성능에 영향을 줄 수 있다.\n",
    "    - 편향성: LLM은 학습데이터에 내재된 편향성을 반영할 수 있다. (사회적, 문화적 편견)\n",
    "    - 많은 비용: LLM은 매우 큰 모델 크기와 복잡성을 가지므로 훈련과 사용에는 많은 계산 자원과 비용이 요구된다.\n",
    "    - 보안성: 개인정보 보호와 윤리적 문제를 야기할 수 있다."
   ]
  },
  {
   "cell_type": "markdown",
   "metadata": {},
   "source": [
    "## GPT - 3\n",
    "- OpenAI에서 개발한 LLM의 예\n",
    "- GPT-3는 1750억 개의 매개변수로 구성되며, 텍스트 생성, 질의 응답, 요약등 다양한 자연어 처리 작업에 사용된다.\n",
    "- 사전 훈련과 저정 2단계로 구성 되며, 사전 훈련 단계에서는 인터넷에 있는 대규모 텍스트 데이터를 사용하여 학습하고, 조정 단계에서는 특정 작업에 맞게 추가적으로 학습한다.\n",
    "\n",
    "위와 같이 LLM은 대량의 데이터와 계산 능력이 요구되기 때문에 모델의 훈련과 사용에는 상당한 컴퓨팅 자원을 필요로 한다. 하지만 이러한 한계를 클라우드 기반의 인프라와 분산 컴퓨팅 기술의 발전으로 현재는 LLM을 상대적으로 쉽게 구축할수 있게 되었다."
   ]
  },
  {
   "cell_type": "markdown",
   "metadata": {},
   "source": [
    "## Transformer 모델\n",
    "  \n",
    "Transformer 모델:  \n",
    "seq2seq의 단점을 개선 하면서도 여전히 인코더-디코더 구조를 유지하는 모델\n",
    "\n",
    "Transformer의 장단점:\n",
    "- 장점\n",
    "    - 병렬 처리: Transformer는 입력 시퀀스의 모든 위치를 독립적으로 처리하므로 병렬 처리가 가능합니다. 이는 학습 및 추론 속도를 향상시키는 데 도움이 된다.\n",
    "\n",
    "    - 장기 의존성 모델링: 기존의 순환 신경망(RNN)과 달리 Transformer는 self-attention 메커니즘을 사용하여 장기 의존성을 캡처할 수 있다. 이는 문장의 먼 위치에 있는 단어와의 상호 작용을 모델링하는 데 도움이 된다.\n",
    "\n",
    "    - 확장성: Transformer는 입력 및 출력 시퀀스의 길이에 영향을 받지 않으므로, 긴 문장이나 문서를 처리하는 데 효과적입니다. 또한, 모델의 깊이와 너비를 조정하여 다양한 크기의 Transformer를 구성할 수 있다.\n",
    "\n",
    "    - 전이 학습: Transformer는 사전 훈련된 언어 모델로 사용될 때, 다른 자연어 처리 작업에 대해 전이 학습이 가능하다. 이는 데이터의 부족한 작업에서도 좋은 성능을 발휘할 수 있음을 의미한다.\n",
    "    \n",
    "- 단점\n",
    "    - 계산 및 메모리 요구 사항: Transformer는 RNN보다 계산 및 메모리 요구 사항이 많다. 특히 큰 모델과 긴 시퀀스를 처리할 때 이러한 요구 사항이 증가하며, 이는 효율적인 학습과 추론에 일부 제약을 가할 수 있다.\n",
    "\n",
    "    - 데이터 양의 필요성: Transformer 모델은 대량의 훈련 데이터를 필요하다. 이는 사전 훈련 및 성능을 위한 추가 데이터 수집에 대한 비용과 시간이 소요될 수 있다는 것을 의미한다.\n",
    "\n",
    "\n",
    "\n",
    "#### Transfomer를 알기 전에 seq2seq란 무엇인가??"
   ]
  },
  {
   "cell_type": "markdown",
   "metadata": {},
   "source": [
    "#### seq2seq??\n",
    "- Sequence-to-Sequence는 입력된 시퀀스로부터 다른 도메인의 시퀀스를 출력하는 다양한 분야에서 사용되는 모델\n",
    "- 예를 들어 챗봇과 기계 번역이 그러한 대표적인 예이다.\n",
    "- 입력 시퀀스를 질문으로 구성하고 출력 시퀀스를 대답으로 구성하면 챗봇을, 입력과 질문 시퀀스를 문장과 번역된 문장으로 만들면 번역기를 만들수 있다.\n",
    "- 이 외에도 내용요약, STT(Speech to Text)등에서 쓰인다.\n",
    "  \n",
    "\n",
    "seq2seq 모델의 대표적인 예는 번역기이다.\n",
    "<img src=\"seq2seq 구조.png\">\n",
    "- 위 그림과 같이 변역기가 'Iam a student'라는 영어 문장을 입력 시퀀스로 받게 되면, 'je suis étudiant'라는 출력 시퀀스를 출력하는 모습을 보여준다.\n",
    "- seq2seq는 인코더와 디코더라는 두 개의 모듈로 구성하게 된다.\n",
    "- 인코더는 입력 문장의 모든 단어를 순차적으로 입력 받은 후 이 모든 단어 정보를 압축해서 하나의 벡터로 만들게 되는데 이를 context vector라고 한다.\n",
    "- 압축이 완료되면 디코더로 전송하게 되고 context vector에서 받은 단어를 한 개씩 출력하게 된다."
   ]
  },
  {
   "attachments": {
    "image.png": {
     "image/png": "[encoded data removed]"
    }
   },
   "cell_type": "markdown",
   "metadata": {},
   "source": [
    "#### seq2seq 인코더와 디코더의 내부\n",
    "![image.png](attachment:image.png)\n",
    "\n",
    "- 인코더 아키텍처와 디코더 아키텍처의 내부는 사실 두 개의 RNN아키텍처\n",
    "- 입력을 받는 RNN을 인코더, 출력을 하는 RNN셀을 디코더 라고 한다.\n",
    "- 성능 문제로 인해 실제로는 바닐라 RNN이 아니라 LSTM 셀 또는 GRU셀로 구성된다.\n"
   ]
  },
  {
   "cell_type": "markdown",
   "metadata": {},
   "source": [
    "#### seq2seq의 단점\n",
    "\n",
    "<img src=\"context vector.png\">\n",
    "\n",
    "- 위와 같이 길이가 긴 문장을 입력시켜도 Encoder는 정해진 벡터 h로 압축해서 변환해야한다.\n",
    "- 이러한 변환 과정은 엄청나게 긴 길이의 문장이 입력되었을 때 나온 h에는 긴 입력 문장에 대한 정보가 잘 담기기 어렵다\n",
    "\n",
    "\n",
    "<b color='red'>이러한 단점 해결하기 위해 attention 매커니즘을 추가</b>\n",
    "\n",
    "<img src=\"attention추가.png\">  \n",
    "\n",
    "attention 매커니즘을 이용하게되면 이전에 사용하지 않았던 모든 state 값을 사용할 수 있기 때문에 Decoder에서 동적으로 context vector만들어 결과값을 출력한다."
   ]
  },
  {
   "cell_type": "markdown",
   "metadata": {},
   "source": [
    "# Encoder-Decoder with Attention 모델\n",
    "\n",
    "<img src=\"attention추가모델.png\">\n"
   ]
  },
  {
   "cell_type": "markdown",
   "metadata": {},
   "source": [
    "- 인코딩 결과 각각의 벡터 h를 사용해서 FC를 통과\n",
    "- 이후 값을 softmax 함수를 통해 벡터의 값을 확률 값으로 변환\n",
    "- 변환한 값을 Attention weight으로 사용하여 특정 단어에 초점을 맞추도록 함\n",
    "- 동적으로 Encoder를 사용하기 때문에 기존 모델보다 긴문장의 번역 성능이 더 좋아짐\n",
    "- 여전히 RNN셀을 순차적으로 계산을 해야해서 느리다."
   ]
  },
  {
   "cell_type": "markdown",
   "metadata": {},
   "source": [
    "# Transformer 모델의 주요 특징\n",
    "\n",
    "<img src=\"Transformer모델.png\">\n",
    "\n",
    "- 기존 인코더-디코더를 발전시킨 모델\n",
    "    - 가장 큰 차이점은 RNN을 사용하지 않는다\n",
    "\n",
    "- Transformer는 기계번역에 있어서 기존 RNN보다 학습이 빠르가 성능이 좋다\n",
    "\n",
    "- Transformer은 Parallelization( 병렬화 )가 가능하다\n",
    "\n",
    "- attention 만으로도 입력 데이터를 중요한 정보를 찾아내서 단어를 인코딩\n",
    "\n",
    "- RNN을 제거해 학습시간을 단축하였고 attention뿐만 아니라 다른 기술들 함께 제공하여 성능도 높임"
   ]
  },
  {
   "cell_type": "markdown",
   "metadata": {},
   "source": [
    "### positional encoding을 사용하여 단어의 순서를 정해줌\n",
    "\n",
    "<img src=\"positional encoding.png\">\n",
    "\n",
    "transformer의 positional encoding은 sin함수와 cos함수를 활용한 positional encoding을 이용하게된다.\n",
    "\n",
    "#### 그 이유는??\n",
    "1. 항상 positional encoding의 값은 -1 ~ 1 사이의 값이 나온다는것\n",
    "2. 모든 상대적인 positional encoding의 장점으로서 학습데이터 중 가장 긴 문장보다 더 긴 문장이 실제로 들어오게 되어도 positional encoding이 error없이 상대적인 encoding 값을 줄수 있기 때문이다."
   ]
  }
 ],
 "metadata": {
  "kernelspec": {
   "display_name": "Python 3",
   "language": "python",
   "name": "python3"
  },
  "language_info": {
   "codemirror_mode": {
    "name": "ipython",
    "version": 3
   },
   "file_extension": ".py",
   "mimetype": "text/x-python",
   "name": "python",
   "nbconvert_exporter": "python",
   "pygments_lexer": "ipython3",
   "version": "3.8.8"
  }
 },
 "nbformat": 4,
 "nbformat_minor": 2
}
